{
 "cells": [
  {
   "cell_type": "markdown",
   "id": "cb6fb9de",
   "metadata": {},
   "source": [
    "# LaTex 框架和总体设置"
   ]
  },
  {
   "cell_type": "markdown",
   "id": "cb34e687",
   "metadata": {
    "ExecuteTime": {
     "end_time": "2021-08-09T10:28:42.628351Z",
     "start_time": "2021-08-09T10:28:42.621326Z"
    }
   },
   "source": [
    "## 框架\n",
    "```latex\n",
    "\\documentclass[UTF8,a4paper,12pt]{ctexart}\n",
    "\\title{LaTeX入门教程}\n",
    "\\author{}  %显示作者\n",
    "\\date{} %不显示时间\n",
    "\n",
    "% 以上称为导言部分，在导言部分可引入宏包和定义全局的设置\n",
    "\\begin{document}\n",
    "  \\maketitle\n",
    "  中文内容\n",
    "\\end{document}\n",
    "```"
   ]
  },
  {
   "cell_type": "markdown",
   "id": "f9214787",
   "metadata": {},
   "source": [
    "# 标题 section\n",
    "\n"
   ]
  },
  {
   "cell_type": "markdown",
   "id": "0ef37eea",
   "metadata": {},
   "source": [
    "### 一级标题\n",
    "```latex\n",
    "\\section{一级标题}  % 有序号\n",
    "\\section*{一级标题} % 无序号\n",
    "```"
   ]
  },
  {
   "cell_type": "markdown",
   "id": "caaa2cde",
   "metadata": {},
   "source": [
    "###  二级标题\n",
    "```latex\n",
    "\\subsection{二级标题}  % 有序号\n",
    "\\subsection*{二级标题} % 无序号\n",
    "```"
   ]
  },
  {
   "cell_type": "markdown",
   "id": "7883f21a",
   "metadata": {},
   "source": [
    "### 标题label\n",
    "```latex\n",
    "\\section{System} % 章节标题\n",
    "\t\\label{sec:system} %标题的标签\n",
    "\n",
    "\\ref{sec:conclusions} %在正文中引用这个标题名\n",
    "```"
   ]
  },
  {
   "cell_type": "markdown",
   "id": "5bd57be9",
   "metadata": {},
   "source": [
    "## 标题形式\n",
    "```latex\n",
    "% 章节序号 和 序号字体大小\n",
    "\\renewcommand{\\thesection}{{\\zihao{4} \\chinese{section}.}} % 一.\n",
    "\\renewcommand{\\thesubsection}{{\\zihao{-4}\\arabic{section}.\\arabic{subsection}}} % 1.1\n",
    "\n",
    "\\arabic (1, 2, 3, ...)\n",
    "\\alph (a, b, c, ...)\n",
    "\\Alph (A, B, C, ...)\n",
    "\\roman (i, ii, iii, ...)\n",
    "\\Roman (I, II, III, ...)\n",
    "\\chinese (一，二，三，四，...)\n",
    "```"
   ]
  },
  {
   "cell_type": "markdown",
   "id": "43e26dae",
   "metadata": {},
   "source": [
    "## 字体字号\n",
    "```latex\n",
    "{\\songti 你好} % 宋体\n",
    "{\\heiti 你好}  % 黑体\n",
    "\\textbf{你好}  % 加粗\n",
    "```\n",
    "```\n",
    "{\\zihao{4} 你好} % 四号字体\n",
    "{\\zihao{-4} 你好} % 小四号字体\n",
    "```"
   ]
  },
  {
   "cell_type": "markdown",
   "id": "93db70bc",
   "metadata": {},
   "source": [
    "## 行距\n",
    "在导言部分\n",
    "```latex\n",
    "% 行距，单倍行距\n",
    "\\usepackage{setspace}\n",
    "\\setstretch{1}\n",
    "1：单倍行距\n",
    "1.2：1.5倍行距\n",
    "1.6：2倍行距\n",
    "```\n",
    "或者\n",
    "```latex\n",
    "\\linespread{1}\n",
    "1：单倍行距\n",
    "1.2：1.5倍行距\n",
    "1.6：2倍行距\n",
    "```"
   ]
  },
  {
   "cell_type": "markdown",
   "id": "026b2c5f",
   "metadata": {},
   "source": [
    "##  页眉页脚\n",
    "```latex\n",
    "% 页眉页脚\n",
    "\\usepackage{fancyhdr}\n",
    "\\pagestyle{fancy}\n",
    "\\fancyhf{}\n",
    "\\cfoot{\\thepage} % 页脚居中写页码\n",
    "\\fancyhead[R]{\\textbf{参赛队号 $\\#\\,6794$}} % 页脚写队名\n",
    "```"
   ]
  },
  {
   "cell_type": "markdown",
   "id": "c1b0d694",
   "metadata": {},
   "source": [
    "##  图表公式的编号形式\n",
    "```latex\n",
    "% 图、表、公式的编号\n",
    "\\renewcommand{\\thefigure}{\\arabic{section}-\\arabic{figure}} # 5-1\n",
    "\\renewcommand{\\thetable}{\\arabic{section}-\\arabic{table}} # 5-1\n",
    "\\renewcommand{\\theequation}{\\arabic{section}-\\arabic{equation}} # 5-1\n",
    "\n",
    "% 单独一个图的引用\n",
    "如图 \\ref{Fig:character}所示 % 如图5-1所示\n",
    "% 对多个图中的字图的引用\n",
    "如图 \\arabic{section}-\\ref{Fig:character:a}所示 % 如图5-1(a)所示\n",
    "```"
   ]
  },
  {
   "cell_type": "markdown",
   "id": "c4deebd3",
   "metadata": {},
   "source": [
    "## 字体\n",
    "```latex\n",
    "\\textbf{字体} % 粗体\n",
    "\\textit{字体} % 斜体\n",
    "\\emph{重点}   % 强调\n",
    "```"
   ]
  },
  {
   "cell_type": "markdown",
   "id": "5db3103a",
   "metadata": {},
   "source": [
    "##  颜色\n",
    "```latex\n",
    "\\definecolor{Red}{RGB}{225,0,0}\n",
    "\\definecolor{Green}{RGB}{0,225,0}\n",
    "\\definecolor{Blue}{RGB}{0,0,225}\n",
    "\n",
    "\n",
    "\\textcolor{Red}{text}\n",
    "\\textcolor{Green}{text}\n",
    "\\textcolor{Blue}{text}\n",
    "```"
   ]
  },
  {
   "cell_type": "markdown",
   "id": "98c2df8b",
   "metadata": {},
   "source": [
    "## 空格\n",
    "```latex\n",
    "\\quad\n",
    "\\qquad\n",
    "\\,\n",
    "\\ (空格)\n",
    "\\/\n",
    "```"
   ]
  },
  {
   "cell_type": "markdown",
   "id": "5c43f943",
   "metadata": {},
   "source": [
    "#  插入图片"
   ]
  },
  {
   "cell_type": "markdown",
   "id": "b19d4cd3",
   "metadata": {},
   "source": [
    "##  单个图片\n",
    "```latex\n",
    "% 添加包\n",
    "% figure 1\n",
    "\\usepackage{graphicx}\n",
    "\\usepackage{float}\n",
    "\n",
    "% 需要添加图片的地方\n",
    "\\begin{figure}[H] % 此处需要用到宏包 float\n",
    "\\centering % 图片居中\n",
    "\\includegraphics[width = 8.3cm]{figures/figure_1.png}\n",
    "\\caption{The caption of this figure.}\n",
    "\\label{fig:figure1label}\n",
    "\\end{figure}\n",
    "\n",
    "% 在中文中需要引用图片的地方\n",
    "如图 \\ref{fig:figure1label} 所示\n",
    "```"
   ]
  },
  {
   "cell_type": "markdown",
   "id": "15fa2d1b",
   "metadata": {},
   "source": [
    "##  两个图片并列\n",
    "###  两个并排图片，单独标题\n",
    "\n",
    "```latex\n",
    "% 使用的宏包\n",
    "\\begin{minipage}[t]{0.5\\linewidth}\n",
    "\\end{minipage}\n",
    "```\n",
    "```latex\n",
    "\\begin{figure}[H]\n",
    "\t\t\\begin{minipage}[t]{0.5\\linewidth}\n",
    "\t\t\t\\centering\n",
    "\t\t\t\\includegraphics[width=6cm]{figures/butterfly.jpg}\n",
    "\t\t\t\\caption{left}\n",
    "\t\t\t\\label{Fig:left}\n",
    "\t\t\\end{minipage}\n",
    "\t\t\\begin{minipage}[t]{0.5\\linewidth}\n",
    "\t\t\t\\centering\n",
    "\t\t\t\\includegraphics[width=6cm]{figures/butterfly.jpg}\n",
    "\t\t\t\\caption{right}\n",
    "\t\t\t\\label{Fig:right}\n",
    "\t\t\\end{minipage}\n",
    "\t\\end{figure}\n",
    "```"
   ]
  },
  {
   "cell_type": "markdown",
   "id": "a15617bc",
   "metadata": {},
   "source": [
    "### 两个并排图片，单独小标题，共享大标题\n",
    "```latex\n",
    "% 使用宏包\n",
    "\\subfigure[小标题]{}\n",
    "```\n",
    "```latex\n",
    "% 添加红包 \\usepackage{subfigure}\n",
    "\\begin{figure}[H]\n",
    "\t\t\\subfigure[left]{\n",
    "\t\t\\begin{minipage}[t]{0.5\\linewidth}\n",
    "\t\t\t\\centering\n",
    "\t\t\t\\includegraphics[width=6cm]{figures/butterfly.jpg}\n",
    "\t\t\t\\label{Fig:left}\n",
    "\t\t\\end{minipage}\n",
    "\t\t}\n",
    "\t\t\\subfigure[right]{\n",
    "\t\t\\begin{minipage}[t]{0.5\\linewidth}\n",
    "\t\t\t\\centering\n",
    "\t\t\t\\includegraphics[width=6cm]{figures/butterfly.jpg}\n",
    "\t\t\t\\label{Fig:right}\n",
    "\t\t\\end{minipage}\n",
    "\t\t}\n",
    "\t\t\\caption{G1 after first step of algorithm.}\n",
    "\\end{figure}\n",
    "```"
   ]
  },
  {
   "cell_type": "markdown",
   "id": "d5eb1348",
   "metadata": {},
   "source": [
    "#  插入表格"
   ]
  },
  {
   "cell_type": "markdown",
   "id": "549bf448",
   "metadata": {},
   "source": [
    "##  生成表格\n",
    "```latex\n",
    "\\usepackage{booktabs} % 绘制三线表\n",
    "```\n",
    "```latex\n",
    "\\begin{table}[htp]\n",
    "\t\\centering\n",
    "\t\\caption{常用符号说明}\n",
    "\t\\begin{tabular*}{\\textwidth}{@{\\extracolsep{\\fill}}ll}%表格两边顶格\n",
    "\t\t\\toprule\n",
    "\t\t符号             & 说明 \\\\\n",
    "\t\t\\midrule\n",
    "\t\t$s(x)$   \t\t& 径向基函数      \\\\\n",
    "\t\t$I_1,I_2$        & 不同纹理特征的图像\\\\\n",
    "\t\t\\bottomrule\n",
    "\t\\end{tabular*}\n",
    "\t\\label{tab:symbol}\n",
    "\\end{table}\n",
    "```"
   ]
  },
  {
   "cell_type": "markdown",
   "id": "ca3e7888",
   "metadata": {},
   "source": [
    "## 跨行跨列表格"
   ]
  },
  {
   "cell_type": "markdown",
   "id": "dd937e39",
   "metadata": {},
   "source": [
    "##  表格引用\n",
    "```latex\n",
    "如表格 \\ref{tab:DH}所示。\n",
    "```"
   ]
  },
  {
   "cell_type": "markdown",
   "id": "7bffb8ac",
   "metadata": {},
   "source": [
    "#  数学公式"
   ]
  },
  {
   "cell_type": "markdown",
   "id": "d39e47a1",
   "metadata": {},
   "source": [
    "##  导入宏包\n",
    "```latex\n",
    "\\usepackage{amsmath}\n",
    "\\usepackage{bm} % 数学公式中使用的黑体 \\bm{R}\n",
    "```"
   ]
  },
  {
   "cell_type": "markdown",
   "id": "89bf7bd9",
   "metadata": {},
   "source": [
    "## 单个方程\n",
    "```latex\n",
    "\\begin{equation}\n",
    "y = ax+b\n",
    "\\end{equation}\n",
    "```"
   ]
  },
  {
   "cell_type": "markdown",
   "id": "99094c4c",
   "metadata": {},
   "source": [
    "##  方程组\n",
    "```latex\n",
    "% 左大括号\n",
    "\\begin{equation}\n",
    "    \\begin{cases}\n",
    "    y_1 = a_1x + b_1\\\\\n",
    "    y_2 = a_2x + b_2\n",
    "    \\end{cases}\n",
    "\\end{equation}\n",
    "\n",
    "% 两个方程是一组(使用1个编号)，没有左大括号\n",
    "\\begin{equation}\n",
    "    \\begin{gathered}\n",
    "    y_1 = a_1x + b_1\\\\\n",
    "    y_2 = a_2x + b_2\n",
    "    \\end{gathered}\n",
    "\\end{equation}\n",
    "\n",
    "% 两个方程是一组(使用1个编号)，有左大括号\n",
    "\\begin{equation}\n",
    "\t\\left \\{\n",
    "\t\t\\begin{gathered}\n",
    "\t\t\ty_1 = a_1x + b_1\\\\\n",
    "\t\t\ty_2 = a_2x + b_2\n",
    "\t\t\\end{gathered}\n",
    "\t\\right .\n",
    "\\end{equation}\n",
    "```"
   ]
  },
  {
   "cell_type": "markdown",
   "id": "7cd72d53",
   "metadata": {},
   "source": [
    "## 拆分单个公式\n",
    "```latex\n",
    "% 将一个长的公式分两行写\n",
    "\\begin{equation}\n",
    "    \\begin{split}\n",
    "    y =& a + b + c\\\\\n",
    "       & + d + e\n",
    "    \\end{split}\n",
    "\\end{equation}\n",
    "```"
   ]
  },
  {
   "cell_type": "markdown",
   "id": "268c57a2",
   "metadata": {},
   "source": [
    "##  分段函数\n",
    "```latex\n",
    "\\begin{equation}\n",
    "T=\n",
    "    \\begin{cases}\n",
    "        0       & a<2\\\\\n",
    "        1       & a=2\\\\\n",
    "        3       & a>2\n",
    "    \\end{cases}\n",
    "\\end{equation}\n",
    "```"
   ]
  },
  {
   "cell_type": "markdown",
   "id": "9637fe35",
   "metadata": {},
   "source": [
    "##  矩阵\n",
    "```latex\n",
    "\\begin{equation}\n",
    "    \\begin{bmatrix}\n",
    "        a & b\\\\\n",
    "        c & d\n",
    "    \\end{bmatrix}\n",
    "\\end{equation}\n",
    "```"
   ]
  },
  {
   "cell_type": "markdown",
   "id": "0bedc123",
   "metadata": {},
   "source": [
    "##  分子分母\n",
    "```latex\n",
    "\\begin{equation}\n",
    "    \\frac{a+b}{c+d}\n",
    "\\end{equation}\n",
    "```"
   ]
  },
  {
   "cell_type": "markdown",
   "id": "38e93b04",
   "metadata": {},
   "source": [
    "##  希腊字母\n",
    "```latex\n",
    "# 小写希腊字母(大写希腊字母时，首字母大写即可)\n",
    "\\alpha\n",
    "\\beta\n",
    "\\gamma\n",
    "\\delta\n",
    "\\epsilon\n",
    "\\eta\n",
    "\\theta\n",
    "\\lambda\n",
    "\\mu\n",
    "\\sigma\n",
    "\\tau\n",
    "\\phi\n",
    "\\varphi\n",
    "\\chi\n",
    "\\psi\n",
    "\\omega\n",
    "```"
   ]
  },
  {
   "cell_type": "markdown",
   "id": "d82b333a",
   "metadata": {},
   "source": [
    "##  数学算子\n",
    "```latex\n",
    "\\sum     # 求和\n",
    "\\prod    #乘积\n",
    "\\partial # 微分\n",
    "\\int     # 积分\n",
    "\\iint    # 二级积分\n",
    "\\iiint   #三级积分\n",
    "```"
   ]
  },
  {
   "cell_type": "markdown",
   "id": "b38e39bd",
   "metadata": {},
   "source": [
    "#  常用符号"
   ]
  },
  {
   "cell_type": "markdown",
   "id": "57904045",
   "metadata": {},
   "source": [
    "##  度\n",
    "```latex\n",
    "$90^{\\circ}$\n",
    "```\n",
    "## 角\n",
    "```latex\n",
    "$\\angle A = 90^{\\circ}$\n",
    "```\n",
    "##  单引号，双引号\n",
    "```latex\n",
    "`单引号'\n",
    "``双引号''\n",
    "```\n",
    "##  横杠\n",
    "```latex\n",
    "-   % 连字符\n",
    "--  % 数字范围\n",
    "--- % 破折号\n",
    "```\n",
    "##  下划线\n",
    "```latex\n",
    "\\underline{论文} % 单下划线\n",
    "\\uuline{论文}    % 双下划线\n",
    "```·"
   ]
  },
  {
   "cell_type": "markdown",
   "id": "86947853",
   "metadata": {},
   "source": [
    "#  列表"
   ]
  },
  {
   "cell_type": "markdown",
   "id": "e1caa1b7",
   "metadata": {},
   "source": [
    "## 列表\n",
    "```latex\n",
    "% 列表里面嵌套列表\n",
    "\\begin{enumerate}\n",
    "\t\\item [1.] 大学\n",
    "\t\t\\begin{enumerate}\n",
    "\t\t\t\\item [1.1] 大一\n",
    "\t\t\t\\item [1.2] 大二\n",
    "\t\t\t\\item [1.3] 大三\n",
    "\t\t\t\\item [1.4] 大四\n",
    "\t\t\\end{enumerate}\n",
    "\t\\item [2.] 研究生\n",
    "\\end{enumerate}\n",
    "```"
   ]
  },
  {
   "cell_type": "markdown",
   "id": "c4a2dac9",
   "metadata": {},
   "source": [
    "#  插入代码"
   ]
  },
  {
   "cell_type": "markdown",
   "id": "bb4c0ed7",
   "metadata": {},
   "source": [
    "##  包\n",
    "```latex\n",
    "\\usepackage{listings} % 插入代码的包\n",
    "\\usepackage{xcolor} %颜色包\n",
    "\n",
    "\\lstset{ %\n",
    "\tlanguage=Matlab,                % the language of the code\n",
    "\tbasicstyle=\\zihao{-4},       % the size of the fonts that are used for the code\n",
    "\tnumbers=left,                   % where to put the line-numbers\n",
    "\tnumberstyle=\\tiny\\color{gray},  % the style that is used for the line-numbers\n",
    "\tstepnumber=1,                   % the step between two line-numbers. If it is 1, each line will be numbered\n",
    "\tnumbersep=5pt,                  % how far the line-numbers are from the code\n",
    "\tbackgroundcolor=\\color{white},  % choose the background color. You must add \\usepackage{color}\n",
    "\tshowspaces=false,               % show spaces adding particular underscores\n",
    "\tshowstringspaces=false,         % underline spaces within strings\n",
    "\tshowtabs=false,                 % show tabs within strings adding particular underscores\n",
    "\tframe=single,                   % adds a frame around the code\n",
    "\trulecolor=\\color{black},        % if not set, the frame-color may be changed on line-breaks within not-black text (e.g. commens (green here))\n",
    "\ttabsize=2,                      % sets default tabsize to 2 spaces\n",
    "\tcaptionpos=b,                   % sets the caption-position to bottom\n",
    "\tbreaklines=true,                % sets automatic line breaking\n",
    "\tbreakatwhitespace=false,        % sets if automatic breaks should only happen at whitespace\n",
    "\ttitle=\\lstname,                 % show the filename of files included with \\lstinputlisting;\n",
    "\t% also try caption instead of title\n",
    "\tkeywordstyle=\\color{blackred},          % keyword style\n",
    "\tcommentstyle=\\color{dkgreen},   % comment style\n",
    "\tstringstyle=\\color{MidnightBlue},         % string literal style\n",
    "\tescapeinside={\\%*}{*)},         % if you want to add LaTeX within your code\n",
    "\tmorekeywords={*,...},           % if you want to add more keywords to the set\n",
    "\tescapechar=`,                    % 中文注释\n",
    "\tcolumns=flexible                % 非等款输出\n",
    "}\n",
    "```\n"
   ]
  },
  {
   "cell_type": "markdown",
   "id": "94e00136",
   "metadata": {},
   "source": [
    "##  代码\n",
    "```latex\n",
    "% 先定义颜色\n",
    "\\definecolor{dkgreen}{rgb}{0,0.6,0}\n",
    "\\definecolor{gray}{rgb}{0.5,0.5,0.5}\n",
    "\\definecolor{MidnightBlue}{RGB}{25,25,112}\n",
    "\\definecolor{blackred}{RGB}{199,21,133} % 关键字颜色\n",
    "\n",
    "% 代码\n",
    "\\begin{lstlisting}[language = Matlab]\n",
    "  function [W, Z, mu, mse] = pcaEm(X, m)\n",
    "  % Perform EM-like algorithm for PCA (by Sam Roweis).\n",
    "  % Input:\n",
    "  %   X: d x n data matrix\n",
    "  %   m: dimension of target space\n",
    "  % Output:\n",
    "  %   W: d x m weight matrix\n",
    "  %   Z: m x n projected data matrix\n",
    "  %   mu: d x 1 mean vector\n",
    "  %   mse: mean square error\n",
    "  % Reference: \n",
    "  %   Pattern Recognition and Machine Learning by Christopher M. Bishop \n",
    "  %   EM algorithms for PCA and SPCA by Sam Roweis \n",
    "  % Written by Mo Chen (sth4nth@gmail.com).\n",
    "  d = size(X,1);\n",
    "  mu = mean(X,2);\n",
    "  X = bsxfun(@minus,X,mu);\n",
    "  W = rand(d,m); \n",
    "\n",
    "  tol = 1e-6;\n",
    "  mse = inf;\n",
    "  maxIter = 200;\n",
    "  for iter = 1:maxIter\n",
    "  \tZ = (W'*W)\\(W'*X);             % 12.58\n",
    "  \tW = (X*Z')/(Z*Z');              % 12.59\n",
    "\n",
    "  last = mse;\n",
    "  E = X-W*Z;\n",
    "  mse = mean(dot(E(:),E(:)));\n",
    "  if abs(last-mse)<mse*tol; break; end;\n",
    "  end\n",
    "  fprintf('Converged in %d steps.\\n',iter);\n",
    "  s = 'hello,world!'; % `中文注释` \n",
    "\\end{lstlisting}\n",
    "```"
   ]
  }
 ],
 "metadata": {
  "kernelspec": {
   "display_name": "d2l-py3.8",
   "language": "python",
   "name": "d2l"
  },
  "language_info": {
   "codemirror_mode": {
    "name": "ipython",
    "version": 3
   },
   "file_extension": ".py",
   "mimetype": "text/x-python",
   "name": "python",
   "nbconvert_exporter": "python",
   "pygments_lexer": "ipython3",
   "version": "3.8.10"
  },
  "toc": {
   "base_numbering": 1,
   "nav_menu": {},
   "number_sections": true,
   "sideBar": true,
   "skip_h1_title": false,
   "title_cell": "Table of Contents",
   "title_sidebar": "Contents",
   "toc_cell": false,
   "toc_position": {},
   "toc_section_display": true,
   "toc_window_display": true
  }
 },
 "nbformat": 4,
 "nbformat_minor": 5
}
